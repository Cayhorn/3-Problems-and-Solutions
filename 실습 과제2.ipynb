{
 "cells": [
  {
   "cell_type": "markdown",
   "id": "3131e926-28bf-4aee-a3a1-9a8048f51d71",
   "metadata": {},
   "source": [
    "## Day 47 Challenge"
   ]
  },
  {
   "cell_type": "code",
   "execution_count": 2,
   "id": "3df0f00a-d85b-4303-9a15-b8fa516d53e5",
   "metadata": {},
   "outputs": [
    {
     "name": "stdout",
     "output_type": "stream",
     "text": [
      "[4, 16, 36, 64, 100]\n"
     ]
    }
   ],
   "source": [
    "num_list = [num for num in range(1, 10 + 1)]\n",
    "even_list = list(filter(lambda x: x % 2 == 0, num_list))\n",
    "square_list = list(map(lambda y: y ** 2, even_list))\n",
    "print(square_list)"
   ]
  },
  {
   "cell_type": "markdown",
   "id": "4c32df25-8663-4e6c-b4d1-41ac3da0065e",
   "metadata": {},
   "source": [
    "* list comprehension을 이용하여 1에서 10까지를 요소로 하는 리스트를 생성한다.\n",
    "* filter 함수와 람다를 이용하여 리스트형 자료 num_list의 요소들 중 짝수들만을 요소로 하여 새로운 리스트 even_list에\n",
    "* map 함수와 람다를 이용하여 리스트형 자료 even_list의 요소들을 각각 제곱한 값을 요소로 하여 새로운 리스트 square_list에 저장한다."
   ]
  },
  {
   "cell_type": "markdown",
   "id": "e0fd2319-8777-4950-9e20-e764c971e807",
   "metadata": {},
   "source": [
    "## Day 45 Challenge"
   ]
  },
  {
   "cell_type": "code",
   "execution_count": 15,
   "id": "1ca22f68-f4ac-4d9c-83d4-a5b07aa4f991",
   "metadata": {},
   "outputs": [
    {
     "name": "stdout",
     "output_type": "stream",
     "text": [
      "p1 : 3, p2 : 3\n",
      "No winner\n"
     ]
    }
   ],
   "source": [
    "from random import randint as r\n",
    "player = {'p1': r(1, 6), 'p2': r(1, 6)}\n",
    "print(\"p1 : {}, p2 : {}\".format(player['p1'], player['p2']))\n",
    "if player['p1'] > player['p2']:\n",
    "    print(\"p1 won\")\n",
    "elif player['p1'] < player['p2']:\n",
    "    print(\"p2 won\")\n",
    "else:\n",
    "    print(\"No winner\")"
   ]
  },
  {
   "cell_type": "markdown",
   "id": "e0b18a6c-fc90-4eb0-816f-ee1c1a203bce",
   "metadata": {},
   "source": [
    "* random 모듈의 randint 메서드를 가져온다.\n",
    "* player 딕셔너리를 만들고, 키를 각각 'p1', 'p2', 값은 모두 1에서 6사이의 난수를 이용한다.\n",
    "* format 메서드를 이용하여 문자열의 {}를 딕셔너리 'p1'키와 'p2'키의 값으로 채워 출력한다.\n",
    "* 딕셔너리 'p1'키와 'p2'키의 값을 if~elif~else문을 통해 비교하고, 출력을 다르게 한다. 더 큰 수의 플레이어가 이기고, 같은 수면 비긴다."
   ]
  },
  {
   "cell_type": "markdown",
   "id": "83fd9716",
   "metadata": {},
   "source": [
    "## Day 53 Challenge"
   ]
  },
  {
   "cell_type": "code",
   "execution_count": 19,
   "id": "34180fbf",
   "metadata": {},
   "outputs": [
    {
     "name": "stdout",
     "output_type": "stream",
     "text": [
      "Enter a natural number > 1155\n",
      "[3, 5, 7, 11]\n"
     ]
    }
   ],
   "source": [
    "def solution(n):\n",
    "  prime_factors = []\n",
    "  prime_number = 2\n",
    "  while n != 1:\n",
    "    prime_bool = False\n",
    "    while n % prime_number == 0:\n",
    "      prime_bool = True\n",
    "      n //= prime_number\n",
    "    if prime_bool:\n",
    "      prime_factors.append(prime_number)\n",
    "    prime_number += 1\n",
    "  return prime_factors\n",
    "print(solution(int(input(\"Enter a natural number > \"))))"
   ]
  },
  {
   "cell_type": "markdown",
   "id": "7919355c",
   "metadata": {},
   "source": [
    "* solution(n) 함수를 정의한다.\n",
    "    * 소인수를 채울 빈 리스트를 만든다.\n",
    "    * 1이 소수가 될 수 없으므로 처음 prime_number를 2로 지정한다.\n",
    "    * 주어진 소인수를 모두 찾아 나누게 되면 그 수는 1이 된다. 즉, 소인수분해하고자 하는 수가 모두 나뉘어져 1이 되기 전까지 반복한다.\n",
    "    * 변수 prime_bool의 값을 False로 둔다.\n",
    "    * \"while n % prime_number == 0\" : 소인수분해하고자 하는 수가 prime_number에 나누어떨어지면,\n",
    "      소인수분해하고자 하는 수를 현재 소수인 prime_number로 나눈다. 이때, 나뉜 그 수가 다시 그 소수로 나누어 떨어진다면,\n",
    "      다시 나눔으로써 그 수가 더 이상 그 소수로 나누어떨어지지 않을 때까지 반복한다.\n",
    "    * 위의 while 조건식을 한번이라도 만족했었다면, prime_bool이 True이므로 바로 밑의 if문이 실행된다. 이것은 해당 prime_number가 소인수분해하고자 하는 수의 소인수이기 때문이므로, 소인수 리스트인 prime_factors에 해당 prime_number를 요소로 추가한다. 반대로, 한번도 만족시키지 않았다면, 해당 prime_number가 소인수분해하고자 하는 수의 소인수가 아니므로 prime_bool은 그대로 False로 유지되므로 if문을 실행시키지 않는다.\n",
    "    * 다른 소인수를 찾기 위해 prime_number를 1만큼 바꾼다.\n",
    "    * \"while n != 1\"을 만족시키지 않으면, 반복문을 종료하고, 추가되었던 prime_factors 리스트를 반환한다.\n",
    "* 마지막 문장을 통해 solution 함수 값을 얻기 위해 사용자 정의 함수 solution(n)으로 이동하고, prime_factors 리스트를 반환하여 소인수들을 오름차순으로 보여준다."
   ]
  }
 ],
 "metadata": {
  "kernelspec": {
   "display_name": "Python 3 (ipykernel)",
   "language": "python",
   "name": "python3"
  },
  "language_info": {
   "codemirror_mode": {
    "name": "ipython",
    "version": 3
   },
   "file_extension": ".py",
   "mimetype": "text/x-python",
   "name": "python",
   "nbconvert_exporter": "python",
   "pygments_lexer": "ipython3",
   "version": "3.11.7"
  }
 },
 "nbformat": 4,
 "nbformat_minor": 5
}
